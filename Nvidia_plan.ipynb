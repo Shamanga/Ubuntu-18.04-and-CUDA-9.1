{
 "cells": [
  {
   "cell_type": "markdown",
   "metadata": {},
   "source": [
    "# Configuring igpu for xserver and Nvidia gpu for CUDA Ubuntu 18.04 \n",
    "----"
   ]
  },
  {
   "cell_type": "markdown",
   "metadata": {},
   "source": [
    "### This step by step guide will help you install Nvidia GPU to work on CUDA only, and for the integrated gpu to take care of the displays.\n",
    "Bionic Beaver (Ubuntu 18.04) is shipped with both the traditional Xorg graphics stack as well as the newer Wayland based stack, but Xorg will be the default. This [article](https://blog.ubuntu.com/2018/01/26/bionic-beaver-18-04-lts-to-use-xorg-by-default) written by Will Cooke a Desktop Engineering Manager explains why Xorg is not the default on Bionic Beaver, in contrast with the previous Ubuntu 17.04 version.\n",
    "\n",
    "In general Xorg is the X Window server which allows users to have a graphical environment at their fingertips. A thorough guide that explains what Xorg is can be found [here](https://wiki.gentoo.org/wiki/Xorg/Guide). [Wayland](https://wayland.freedesktop.org/) is intended as a simpler replacement for X, easier to develop and maintain."
   ]
  },
  {
   "cell_type": "markdown",
   "metadata": {},
   "source": [
    "\n",
    "To check whether your Ubuntu is running on Wayland or Xorg, open a terminal use:\n",
    "\n",
    "        > cat /etc/gdm3/custom.conf\n",
    "To disable Wayland access the configuration file with an editor of your choice using **sudo** and **un-comment** the line, and reboot the system to apply changes.\n",
    "    \n",
    "        > #WaylandEnable=false\n"
   ]
  },
  {
   "cell_type": "markdown",
   "metadata": {},
   "source": [
    "To check what hardware is in our system:\n",
    "\n",
    "    > sudo lshw -c display\n",
    "\n",
    "![Display](images/displays.png)\n",
    "\n",
    "From the image above we can see that there are 2 hardware devices related to the display.\n",
    "\n",
    "What is important for us is to see that the driver installed for the GPU is the [nouveau](https://nouveau.freedesktop.org/wiki/) driver which is a free and open-source graphics device driver for nvidia video cards. You can also check which type of driver you are using from the software and update center under additional drivers.\n",
    "\n",
    "![Drivers](images/SU_ss.png)\n",
    "\n"
   ]
  },
  {
   "cell_type": "markdown",
   "metadata": {},
   "source": [
    "----\n",
    "Make SURE that you remove all nvidia drivers previously installed using:\n",
    "\n",
    "    > sudo apt-get remove --purge nvidia-*\n",
    "    \n",
    "----"
   ]
  },
  {
   "cell_type": "markdown",
   "metadata": {},
   "source": [
    "\n",
    "## 1 - Installing Via Command line (Recommended)\n",
    "\n",
    "First by adding the Nvidia PPA:\n",
    "\n",
    "    > sudo add-apt-repository ppa:graphics-drivers/ppa\n",
    "    \n",
    "Nvidia has a driver that is marked as 'Headless' and this is exactly what we are looking for. This package is used when you do not need X11 or Wayland support.\n",
    "\n",
    "Please check what version is available.\n",
    "\n",
    "Then:\n",
    "\n",
    "    > sudo apt install nvidia-headless-**driver-version**\n",
    "    \n",
    "In our case:\n",
    "    \n",
    "    > sudo apt install nvidia-headless-390\n",
    "    \n",
    "To check after installation:\n",
    "\n",
    "    > cat /proc/driver/nvidia/version\n",
    "    \n",
    "Installing nvidia utilities:\n",
    "\n",
    "    > sudo apt install nvidia-utils-390\n",
    "\n",
    "----"
   ]
  },
  {
   "cell_type": "markdown",
   "metadata": {},
   "source": [
    "## 2 - Installing Via GUI\n",
    "\n",
    "On Ubuntu 18.04, setting up the nvidia driver is fairly simple. It can be done through the graphical user interface above. You can compare the driver number with the one listed on the [nvidia website](https://www.nvidia.com/Download/index.aspx) by choosing your system details. It is recommended to **disable** secure boot if you are using UEFI firmware, some problems might be encountered if it is enabled.\n"
   ]
  },
  {
   "cell_type": "markdown",
   "metadata": {},
   "source": [
    "----\n",
    "## 3 - Installing Via Nvidia run files\n",
    "\n",
    "Make sure that the BIOS is configured to drive the monitor from iGPU.\n",
    "\n",
    "[Download](https://www.nvidia.com/Download/index.aspx?lang=en-us) the driver version directly from the nvidia website by inputting your details and run the file.\n",
    "\n",
    "    > sudo ./NVIDIA-Linux-x86_64-390.87.run --no-opengl-files --no-x-check --disable-nouveau\n",
    "    \n",
    "where:\n",
    "    \n",
    "-  --no-opengl-files is the key option that makes this work. We don't want to overwrite the Intel opengl setup which is important for compiz.\n",
    "-  --no-x-check allows us to install the driver without stopping X.\n",
    "-  --disable-nouveau is there just in case you do want to drive the display from a gpu at some point.\n",
    "\n",
    "When prompted don't configure X.\n",
    "\n",
    "If you're under UEFI have the installer generate a key pair for you and save those for future driver updates. Put the pub key on a usb stick and append it to the DB store in your bios.\n",
    "\n",
    "To identify if the computer boots the HDD in UEFI mode:\n",
    "\n",
    "    > [ -d /sys/firmware/efi ] && echo \"EFI boot on HDD\" || echo \"Legacy boot on HDD\" \n",
    "    \n",
    "Now we will use the [Persistence Daemon](https://docs.nvidia.com/deploy/driver-persistence/index.html#persistence-daemon-supported-environments) to keep the driver up and running. Clients attach a GPU by opening its device file and GPU is detached by closing the device file. If all clients have closed the device file, the GPU state will be unloaded unless persistence mode is enabled. \n",
    "\n",
    "To run the NVIDIA Persistence Daemon, run as root:\n",
    "\n",
    "    > nvidia-persistenced --user foo\n",
    "    \n",
    "To install the NVIDIA Persistence Daemon to start on system initialization please check [here](https://docs.nvidia.com/deploy/driver-persistence/index.html#installation) .\n",
    "    \n",
    "** Potential problems with ubuntu updates.\n",
    "\n",
    "----"
   ]
  },
  {
   "cell_type": "markdown",
   "metadata": {},
   "source": [
    "# Installing CUDA on Ubuntu 18.04"
   ]
  },
  {
   "cell_type": "markdown",
   "metadata": {},
   "source": [
    "To check which cuda version is compatible with the driver you just installed please check this [post](https://stackoverflow.com/questions/30820513/what-is-version-of-cuda-for-nvidia-304-125/30820690#30820690). \n",
    "\n",
    "In our case for a 390 driver version, CUDA 9.1 is the compatible one.\n",
    "\n",
    "The CUDA development environment relies on tight integration with the host development environment, including the host compiler and C runtime libraries and is therefore only supported on distribution versions that have been qualified for this CUDA Toolkit release. Full documentation can be found [here](https://docs.nvidia.com/cuda/archive/9.1/cuda-installation-guide-linux/index.html).\n",
    "\n",
    "![CUDA](images/cuda_dependencies.png)\n",
    "\n",
    "Since the default gcc version of ubuntu 18.04 is 7.3.0, it needs to be changed. To check what version of gcc you are using:\n",
    "\n",
    "    > gcc --version\n",
    "    \n",
    "![gcc](images/gcc.png)\n",
    "\n",
    "The default kernel version of ubuntu 18.04 is 4.15. To check the version use:\n",
    "    \n",
    "    > uname -r\n",
    "\n",
    "![kernel](images/kernel.png)\n",
    "\n",
    "To check the ldd version:\n",
    "    \n",
    "    > ldd --version\n",
    "\n",
    "![ldd](images/ldd.png)\n",
    "\n",
    "A solution for the gcc/g++ compatibility is to remove the gcc/g++7.3 and install the correct version required, but a yet better solution is to use the update-alternatives that allows you to switch between versions.\n",
    "\n",
    "Remove current alternatives:\n",
    "\n",
    "\n",
    "    > sudo update-alternatives --remove-all gcc \n",
    "    > sudo update-alternatives --remove-all g++\n",
    "    \n",
    "Install packages:\n",
    "\n",
    "    > sudo apt-get install gcc-6 g++-6\n",
    "    \n",
    "Install Alternatives:\n",
    "       \n",
    "    > update-alternatives: --install needs (link) (name) (path) (priority)\n",
    "\n",
    "       \n",
    "    > sudo update-alternatives --install /usr/bin/gcc gcc /usr/bin/gcc-6 10\n",
    "    > sudo update-alternatives --install /usr/bin/gcc gcc /usr/bin/gcc-7 20\n",
    "    \n",
    "    > sudo update-alternatives --install /usr/bin/g++ g++ /usr/bin/g++-6 10\n",
    "    > sudo update-alternatives --install /usr/bin/g++ g++ /usr/bin/g++-7 20\n",
    "    \n",
    "    > sudo update-alternatives --install /usr/bin/cc cc /usr/bin/gcc 30\n",
    "    > sudo update-alternatives --set cc /usr/bin/gcc\n",
    "    > sudo update-alternatives --install /usr/bin/c++ c++ /usr/bin/g++ 30\n",
    "    > sudo update-alternatives --set c++ /usr/bin/g++\n",
    "    \n",
    "Configure Alternatives:\n",
    "\n",
    "    > sudo update-alternatives --config gcc\n",
    "    > sudo update-alternatives --config g++\n",
    "    \n",
    "Installing other CUDA dependencies:\n",
    "\n",
    "    > sudo apt-get install freeglut3 freeglut3-dev libxi-dev libxmu-dev"
   ]
  },
  {
   "cell_type": "markdown",
   "metadata": {},
   "source": [
    "## CUDA run file installer"
   ]
  },
  {
   "cell_type": "markdown",
   "metadata": {},
   "source": [
    "Since Nvidia did not include an installer for Ubuntu 18.04, we are going to use the run files of CUDA toolkit 9.1 for ubuntu 17.04.\n",
    "\n",
    "Head to the [CUDA toolkit archive](https://developer.nvidia.com/cuda-91-download-archive) and download the runfile installer and all the patches.\n",
    "\n",
    "![cuda_runfile](images/cuda_runfile.png)\n",
    "\n",
    "Make sure that driver version on the CUDA runfile name is the one supported (It is not necessary for them to be identical). For example here it is 387.26 but our driver version is 390.xx. You can then run the runfile you just downloaded using:\n",
    "\n",
    "    > sudo sh cuda_9.1.85_387.26_linux.run\n",
    "    \n",
    "    \n",
    "You will be prompted with several questions one of which is:\n",
    "\n",
    "\n",
    "Install NVIDIA Accelerated Graphics Driver for Linux-x86_64 387.26? y/n/q\n",
    "\n",
    "\n",
    "    > Make sure to answer **n**, as we already installed the nvidia driver\n",
    "    \n",
    "Enter CUDA Samples Location:\n",
    "\n",
    "        > You can set it to **/usr/local/cuda-9.1** if you don't want it in your home directory\n",
    "\n",
    "You might get a message at the end of the installation that the driver is not detected, ignore it and continue with installing the patches,\n",
    "\n",
    "Install the patches by order:\n",
    "\n",
    "    > sudo sh cuda_9.1.85.1_linux.run\n",
    "    > sudo sh cuda_9.1.85.2_linux.run\n",
    "    > sudo sh cuda_9.1.85.3_linux.run\n",
    "    \n"
   ]
  },
  {
   "cell_type": "markdown",
   "metadata": {},
   "source": [
    "## Setting up environment variables (System wide)"
   ]
  },
  {
   "cell_type": "markdown",
   "metadata": {},
   "source": [
    "Create the file cuda.sh:\n",
    "\n",
    "    > sudo touch /etc/profile.d/cuda.sh\n",
    "\n",
    "Add the following commands inside the cuda.sh file:\n",
    "\n",
    "    > echo $'export PATH=$PATH:/usr/local/cuda/bin \\nexport CUDADIR=/usr/local/cuda' | sudo tee --append /etc/profile.d/cuda.sh\n",
    "    \n",
    "Create the following file as well:\n",
    "\n",
    "    > sudo touch /etc/ld.so.conf.d/cuda.conf\n",
    "    \n",
    "Add the following command:\n",
    "\n",
    "    > echo '/usr/local/cuda/lib64' | sudo tee --append /etc/ld.so.conf.d/cuda.conf\n",
    "    \n",
    "Run:\n",
    "\n",
    "    > sudo ldconfig\n",
    "    \n",
    "And finally:\n",
    "\n",
    "    > source /etc/profile.d/cuda.sh"
   ]
  },
  {
   "cell_type": "markdown",
   "metadata": {},
   "source": [
    "## Testing Cuda by building the samples"
   ]
  },
  {
   "cell_type": "markdown",
   "metadata": {},
   "source": [
    "You can now check if the installation of Cuda is fine or not.\n",
    "\n",
    "    > mkdir cuda-testing\n",
    "    > source cuda-9.1-env\n",
    "    > cp -a /usr/local/cuda/samples  cuda-testing/\n",
    "    > cd cuda-testing/samples\n",
    "    > make\n",
    "\n",
    "After building you can query the device being used by cuda via using the deviceQuery sample:\n",
    "\n",
    "    > cd cuda-testing/samples/1_Utilities/deviceQuery\n",
    "    > ./deviceQuery\n",
    "    \n",
    "Output should be like this depending on your gpu:\n",
    "\n",
    "![TFcomp](images/device_query.png)"
   ]
  },
  {
   "cell_type": "markdown",
   "metadata": {},
   "source": [
    "----\n",
    "## CUDNN"
   ]
  },
  {
   "cell_type": "markdown",
   "metadata": {},
   "source": [
    "Install [cuDNN](https://developer.nvidia.com/cudnn) version that is compatible with the version of CUDA you just downloaded and as well as with TensorFlow.\n",
    "\n",
    "![TFcomp](images/tfcompt.png)\n",
    "\n",
    "Since we will be installing tensorflow v1.10 later, we will go with cuDNN 7. Looking into the cuDNN archive, download cuDNN v7.1.3 (April 17, 2018), for CUDA 9.1 .\n",
    "Extract the .tgz file any where you like, let's assume it is in your home directory for simplicity. Change **direc** to your own direc **name**.\n",
    "\n",
    "    > tar -xzvf cudnn-9.1-linux-x64-v7.1.tgz\n",
    "    > sudo cp /home/direc/cudnn-9.1-linux-x64-v7.1/cuda/include/cudnn.h /usr/local/cuda/include/\n",
    "    > sudo cp /home/direc/cudnn-9.1-linux-x64-v7.1/cuda/lib64/* /usr/local/cuda/lib64/\n",
    "    > sudo chmod a+r /usr/local/cuda/include/cudnn.h /usr/local/cuda/lib64/libcudnn*\n",
    "    "
   ]
  },
  {
   "cell_type": "markdown",
   "metadata": {},
   "source": [
    "----\n",
    "## Installing NCCL"
   ]
  },
  {
   "cell_type": "markdown",
   "metadata": {},
   "source": [
    "Head to the [NCCL](https://developer.nvidia.com/nccl/nccl-download) website and download the tar file corresponding to the installations above. We will choose from Download NCCL v2.1.15, for **CUDA 9.1, March 8, 2018,** and then click on **NCCL 2.1.15 O/S agnostic and CUDA 9**.\n",
    "\n",
    "Extract the .txz file any where you like, let's assume it is in your home directory for simplicity. Change direc to your own direc name.\n",
    "\n",
    "    > tar xvf nccl_2.1.15-1+cuda9.1_x86_64.txz\n",
    "    > sudo mkdir -p /usr/local/cuda/nccl/lib /usr/local/cuda/nccl/include\n",
    "    > sudo cp /home/direc/nccl_2.1.15-1+cuda9.1_x86_64/*.txt /usr/local/cuda/nccl\n",
    "    > sudo cp /home/direc/nccl_2.1.15-1+cuda9.1_x86_64/include/*.h /usr/include/\n",
    "    > sudo cp /home/direc/nccl_2.1.15-1+cuda9.1_x86_64/lib/libnccl.so.2.1.15 /home/direc/nccl_2.1.15-1+cuda9.1_x86_64/lib/libnccl_static.a /usr/lib/x86_64-linux-gnu/\n",
    "    > sudo ln -s /usr/include/nccl.h /usr/local/cuda/nccl/include/nccl.h\n",
    "    > cd /usr/lib/x86_64-linux-gnu\n",
    "    > sudo ln -s libnccl.so.2.1.15 libnccl.so.2\n",
    "    > sudo ln -s libnccl.so.2 libnccl.so\n",
    "    > for i in libnccl*; do sudo ln -s /usr/lib/x86_64-linux-gnu/$i /usr/local/cuda-9.1/nccl/lib/$i; done\n"
   ]
  },
  {
   "cell_type": "markdown",
   "metadata": {},
   "source": [
    "----\n",
    "## Installing Bazel"
   ]
  },
  {
   "cell_type": "markdown",
   "metadata": {},
   "source": [
    "Installing Bazel using [Bazel custom APT repo](https://docs.bazel.build/versions/master/install-ubuntu.html#install-on-ubuntu):\n",
    "\n",
    "    > sudo apt-get install openjdk-8-jdk\n",
    "    > echo \"deb [arch=amd64] http://storage.googleapis.com/bazel-apt stable jdk1.8\" | sudo tee /etc/apt/sources.list.d/bazel.list\n",
    "    > curl https://bazel.build/bazel-release.pub.gpg | sudo apt-key add -\n",
    "    > sudo apt-get update && sudo apt-get install bazel\n",
    "    \n",
    "Upgrading to a new version\n",
    "\n",
    "    > sudo apt-get upgrade bazel\n",
    "    \n",
    "You might see some warnings but it's fine as well."
   ]
  },
  {
   "cell_type": "markdown",
   "metadata": {},
   "source": [
    "----\n",
    "## Installing Tensorflow"
   ]
  },
  {
   "cell_type": "markdown",
   "metadata": {},
   "source": [
    "We will set up tensorflow using the repository directly:\n",
    "\n",
    "    > git clone https://github.com/tensorflow/tensorflow\n",
    "    > cd tensorflow\n",
    "    > ./configure\n",
    "    \n",
    "You will be prompted by a number of inputs that you will have to specify depending on what you need:\n",
    "\n",
    "The most important ones are:\n",
    "    \n",
    "    > Do you wish to build TensorFlow with CUDA support? [y/N]: y\n",
    "    > Please specify the CUDA SDK version you want to use, e.g. 7.0. [Leave empty to default to CUDA 9.0]: 9.1\n",
    "    > Please specify the location where CUDA 9.1 toolkit is installed. Refer to README.md for more details. [Default is /usr/local/cuda]: /usr/loca/cuda-9.1\n",
    "    > Please specify the cuDNN version you want to use. [Leave empty to default to cuDNN 7.0]: 7.1\n",
    "    > Please specify the location where cuDNN 7 library is installed. Refer to README.md for more details. [Default is /usr/local/cuda]: /usr/local/cuda-9.1\n",
    "    > Please specify the NCCL version you want to use. [Leave empty to default to NCCL 1.3]: 2.1.15\n",
    "    > Please specify the location where NCCL 2 library is installed. Refer to README.md for more details. [Default is /usr/local/cuda]:/usr/local/cuda-9.1/nccl\n",
    "    > Please specify a list of comma-separated Cuda compute capabilities you want to build with. You can find the compute capability of your device at: https://developer.nvidia.com/cuda-gpus. Please note that each additional compute capability significantly increases your build time and binary size. [Default is: 3.5,5.2]: 6.1 (The one belonging to your gpu)\n",
    "    > Please specify which gcc should be used by nvcc as the host compiler. [Default is /usr/bin/x86_64-linux-gnu-gcc-7]: /usr/bin/gcc-6 (Could be 4.8, it is the one recommended on TF website)\n",
    "    \n",
    " ----   \n",
    " \n",
    "    > pip install keras\n",
    "    > bazel build --config=opt --config=cuda //tensorflow/tools/pip_package:build_pip_package\n",
    "    > bazel-bin/tensorflow/tools/pip_package/build_pip_package /tmp/tensorflow_pkg\n",
    "    > pip install /tmp/tensorflow_pkg/tensorflow*.whl"
   ]
  },
  {
   "cell_type": "markdown",
   "metadata": {},
   "source": [
    "----\n",
    "## Credits:\n",
    "\n",
    "GCC alternatives:\n",
    "\n",
    "https://askubuntu.com/questions/26498/how-to-choose-the-default-gcc-and-g-version\n",
    "\n",
    "CUDA installation: \n",
    "\n",
    "https://www.pugetsystems.com/labs/hpc/How-to-install-CUDA-9-2-on-Ubuntu-18-04-1184/#step-3-install-cuda-dependencies\n",
    "\n",
    "Manual Nvidia installation:\n",
    "\n",
    "https://devtalk.nvidia.com/default/topic/964757/setting-up-a-linux-gpu-dev-box-with-integrated-graphics-driving-the-display/\n",
    "\n",
    "Ubuntu UEFI:\n",
    "\n",
    "https://help.ubuntu.com/community/UEFI\n",
    "\n",
    "cuDNN:\n",
    "\n",
    "https://medium.com/@asmello/how-to-install-tensorflow-cuda-9-1-into-ubuntu-18-04-b645e769f01d\n",
    "\n",
    "Bazel:\n",
    "\n",
    "https://docs.bazel.build/versions/master/install-ubuntu.html#install-on-ubuntu"
   ]
  }
 ],
 "metadata": {
  "kernelspec": {
   "display_name": "Python 3",
   "language": "python",
   "name": "python3"
  },
  "language_info": {
   "codemirror_mode": {
    "name": "ipython",
    "version": 3
   },
   "file_extension": ".py",
   "mimetype": "text/x-python",
   "name": "python",
   "nbconvert_exporter": "python",
   "pygments_lexer": "ipython3",
   "version": "3.6.5"
  }
 },
 "nbformat": 4,
 "nbformat_minor": 2
}
