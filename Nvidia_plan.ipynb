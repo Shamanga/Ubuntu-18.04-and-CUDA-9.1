{
 "cells": [
  {
   "cell_type": "markdown",
   "metadata": {},
   "source": [
    "<h1><center> Configuring igpu for xserver and Nvidia gpu for CUDA Ubuntu 18.04 </center></h1>"
   ]
  },
  {
   "cell_type": "markdown",
   "metadata": {},
   "source": [
    "### This step by step guide will help you install Nvidia GPU to work on CUDA only, and for the integrated gpu to take care of the displays.\n",
    "Bionic Beaver (Ubuntu 18.04) is shipped with both the traditional Xorg graphics stack as well as the newer Wayland based stack, but Xorg will be the default. This [article](https://blog.ubuntu.com/2018/01/26/bionic-beaver-18-04-lts-to-use-xorg-by-default) written by Will Cooke a Desktop Engineering Manager explains why Xorg is not the default on Bionic Beaver, in contrast with the previous Ubuntu 17.04 version.\n",
    "\n",
    "In general Xorg is the X Window server which allows users to have a graphical environment at their fingertips. A thorough guide that explains what Xorg is can be found [here](https://wiki.gentoo.org/wiki/Xorg/Guide). [Wayland](https://wayland.freedesktop.org/) is intended as a simpler replacement for X, easier to develop and maintain."
   ]
  },
  {
   "cell_type": "markdown",
   "metadata": {},
   "source": [
    "\n",
    "To check whether your Ubuntu is running on Wayland or Xorg, open a terminal use:\n",
    "\n",
    "        > cat /etc/gdm3/custom.conf\n",
    "To disable Wayland access the configuration file with an editor of your choice using **sudo** and **un-comment** the line, and reboot the system to apply changes.\n",
    "    \n",
    "        > #WaylandEnable=false\n"
   ]
  },
  {
   "cell_type": "markdown",
   "metadata": {},
   "source": [
    "To check what hardware is in our system:\n",
    "\n",
    "    > sudo lshw -c display\n",
    "\n",
    "![Display](images/displays.png)\n",
    "\n",
    "From the image above we can see that there are 2 hardware devices related to the display.\n",
    "\n",
    "What is important for us is to see that the driver installed for the GPU is the [nouveau](https://nouveau.freedesktop.org/wiki/) driver which is a free and open-source graphics device driver for nvidia video cards. You can also check which type of driver you are using from the software and update center under additional drivers.\n",
    "\n",
    "![Drivers](images/SU_ss.png)\n",
    "\n"
   ]
  },
  {
   "cell_type": "markdown",
   "metadata": {},
   "source": [
    "<h1><center> 1 - Installing Via GUI </center></h1>\n",
    "\n",
    "On Ubuntu 18.04, setting up the nvidia driver is fairly simple. It can be done through the graphical user interface above. You can compare the driver number with the one listed on the [nvidia website](https://www.nvidia.com/Download/index.aspx) by choosing your system details. It is recommended to **disable** secure boot if you are using UEFI firmware, some problems might be encountered if it is enabled.\n"
   ]
  },
  {
   "cell_type": "markdown",
   "metadata": {},
   "source": [
    "\n",
    "\n",
    "<h1><center> 2 - Installing Via Command line</center></h1>\n",
    "\n",
    "First by adding the Nvidia PPA:\n",
    "\n",
    "    > sudo add-apt-repository ppa:graphics-drivers/ppa\n",
    "Then:\n",
    "\n",
    "    > sudo apt install nvidia-driver-**driver-version**\n",
    "    \n",
    "In our case:\n",
    "    \n",
    "    > sudo apt install nvidia-driver-390"
   ]
  },
  {
   "cell_type": "markdown",
   "metadata": {},
   "source": [
    "<h1><center> Installing CUDA on Ubuntu 18.04</center></h1>"
   ]
  },
  {
   "cell_type": "markdown",
   "metadata": {},
   "source": [
    "To check which cuda version is compatible with the driver you just installed please check this [post](https://stackoverflow.com/questions/30820513/what-is-version-of-cuda-for-nvidia-304-125/30820690#30820690). \n",
    "\n",
    "In our case for a 390 driver version, CUDA 9.1 is the compatible one.\n",
    "\n",
    "The CUDA development environment relies on tight integration with the host development environment, including the host compiler and C runtime libraries and is therefore only supported on distribution versions that have been qualified for this CUDA Toolkit release. Full documentation can be found [here](https://docs.nvidia.com/cuda/archive/9.1/cuda-installation-guide-linux/index.html).\n",
    "\n",
    "![CUDA](images/cuda_dependencies.png)\n",
    "\n",
    "Since the default gcc version of ubuntu 18.04 is 7.3.0, it needs to be changed. To check what version of gcc you are using:\n",
    "\n",
    "    > gcc --version\n",
    "    \n",
    "![gcc](images/gcc.png)\n",
    "\n",
    "The default kernel version of ubuntu 18.04 is 4.15. To check the version use:\n",
    "    \n",
    "    > uname -r\n",
    "\n",
    "![kernel](images/kernel.png)\n",
    "\n",
    "To check the ldd version:\n",
    "    \n",
    "    > ldd --version\n",
    "\n",
    "![ldd](images/ldd.png)\n",
    "\n",
    "A solution for the gcc/g++ compatibility is to remove the gcc/g++7.3 and install the correct version required, but a yet better solution is to use the update-alternatives that allows you to switch between versions.\n",
    "\n",
    "Remove current alternatives:\n",
    "\n",
    "\n",
    "    > sudo update-alternatives --remove-all gcc \n",
    "    > sudo update-alternatives --remove-all g++\n",
    "    \n",
    "Install packages:\n",
    "\n",
    "    > sudo apt-get install gcc-6 g++-6\n",
    "    \n",
    "Install Alternatives:\n",
    "       \n",
    "    > update-alternatives: --install needs (link) (name) (path) (priority)\n",
    "\n",
    "       \n",
    "    > sudo update-alternatives --install /usr/bin/gcc gcc /usr/bin/gcc-6 10\n",
    "    > sudo update-alternatives --install /usr/bin/gcc gcc /usr/bin/gcc-7 20\n",
    "    \n",
    "    > sudo update-alternatives --install /usr/bin/g++ g++ /usr/bin/g++-6 10\n",
    "    > sudo update-alternatives --install /usr/bin/g++ g++ /usr/bin/g++-7 20\n",
    "    \n",
    "    > sudo update-alternatives --install /usr/bin/cc cc /usr/bin/gcc 30\n",
    "    > sudo update-alternatives --set cc /usr/bin/gcc\n",
    "    > sudo update-alternatives --install /usr/bin/c++ c++ /usr/bin/g++ 30\n",
    "    > sudo update-alternatives --set c++ /usr/bin/g++\n",
    "    \n",
    "Configure Alternatives:\n",
    "\n",
    "    > sudo update-alternatives --config gcc\n",
    "    > sudo update-alternatives --config g++\n",
    "    \n",
    "Installing other CUDA dependencies:\n",
    "\n",
    "    > sudo apt-get install freeglut3 freeglut3-dev libxi-dev libxmu-dev"
   ]
  },
  {
   "cell_type": "markdown",
   "metadata": {},
   "source": [
    "<h2><center> CUDA run file installer </center></h2>"
   ]
  },
  {
   "cell_type": "markdown",
   "metadata": {},
   "source": [
    "Since Nvidia did not include an installer for Ubuntu 18.04, we are going to use the run files of CUDA toolkit 9.1 for ubuntu 17.04.\n",
    "\n",
    "Head to the [CUDA toolkit archive](https://developer.nvidia.com/cuda-91-download-archive) and download the runfile installer and all the patches.\n",
    "\n",
    "![cuda_runfile](images/cuda_runfile.png)\n",
    "\n",
    "Make sure that driver version on the CUDA runfile name is the one supported (It is not necessary for them to be identical). For example here it is 387.26 but our driver version is 390.xx. You can then run the runfile you just downloaded using:\n",
    "\n",
    "    > sudo sh cuda_9.1.85_387.26_linux.run\n",
    "    \n",
    "    \n",
    "You will be prompted with several questions one of which is:\n",
    "\n",
    "\n",
    "> Install NVIDIA Accelerated Graphics Driver for Linux-x86_64 387.26? y/n/q\n",
    "\n",
    "\n",
    "    > Make sure to answer **n**, as we already installed the nvidia driver\n",
    "    \n",
    "  \n",
    "> Enter CUDA Samples Location:\n",
    "\n",
    "        > You can set it to **/usr/local/cuda-9.1** if you don't want it in your home directory\n",
    "\n",
    "Install the patches by order:\n",
    "\n",
    "    > sudo sh cuda_9.1.85.1_linux.run\n",
    "    > sudo sh cuda_9.1.85.2_linux.run\n",
    "    > sudo sh cuda_9.1.85.3_linux.run\n",
    "    \n"
   ]
  },
  {
   "cell_type": "markdown",
   "metadata": {},
   "source": [
    "<h2><center> Setting up environment variables (System wide) </center></h2>"
   ]
  },
  {
   "cell_type": "markdown",
   "metadata": {},
   "source": [
    "Create the file cuda.sh:\n",
    "\n",
    "    > sudo touch /etc/profile.d/cuda.sh\n",
    "\n",
    "Add the following commands inside the cuda.sh file:\n",
    "\n",
    "    > echo $'export PATH=$PATH:/usr/local/cuda/bin \\nexport CUDADIR=/usr/local/cuda' | sudo tee --append /etc/profile.d/cuda.sh\n",
    "    \n",
    "Create the following file as well:\n",
    "\n",
    "    > sudo touch /etc/ld.so.conf.d/cuda.conf\n",
    "    \n",
    "Add the following command:\n",
    "\n",
    "    > echo '/usr/local/cuda/lib64' | sudo tee --append /etc/ld.so.conf.d/cuda.conf\n",
    "    \n",
    "Run:\n",
    "\n",
    "    > sudo ldconfig\n",
    "    \n",
    "And finally:\n",
    "\n",
    "    > source /etc/profile.d/cuda.sh"
   ]
  },
  {
   "cell_type": "markdown",
   "metadata": {},
   "source": [
    "Credits:\n",
    "\n",
    "GCC alternatives:\n",
    "\n",
    "https://askubuntu.com/questions/26498/how-to-choose-the-default-gcc-and-g-version\n",
    "\n",
    "CUDA installation: \n",
    "\n",
    "https://www.pugetsystems.com/labs/hpc/How-to-install-CUDA-9-2-on-Ubuntu-18-04-1184/#step-3-install-cuda-dependencies"
   ]
  },
  {
   "cell_type": "code",
   "execution_count": null,
   "metadata": {},
   "outputs": [],
   "source": []
  }
 ],
 "metadata": {
  "kernelspec": {
   "display_name": "Python 3",
   "language": "python",
   "name": "python3"
  },
  "language_info": {
   "codemirror_mode": {
    "name": "ipython",
    "version": 3
   },
   "file_extension": ".py",
   "mimetype": "text/x-python",
   "name": "python",
   "nbconvert_exporter": "python",
   "pygments_lexer": "ipython3",
   "version": "3.6.5"
  }
 },
 "nbformat": 4,
 "nbformat_minor": 2
}
